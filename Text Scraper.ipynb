{
 "cells": [
  {
   "cell_type": "code",
   "execution_count": 4,
   "metadata": {
    "collapsed": false
   },
   "outputs": [
    {
     "name": "stdout",
     "output_type": "stream",
     "text": [
      "Requirement already satisfied: google-api-python-client in c:\\.school\\csci 40 stuff\\lab 03\\csci 161.03\\lib\\site-packages (2.104.0)\n",
      "Requirement already satisfied: httplib2<1.dev0,>=0.15.0 in c:\\.school\\csci 40 stuff\\lab 03\\csci 161.03\\lib\\site-packages (from google-api-python-client) (0.22.0)\n",
      "Requirement already satisfied: google-auth<3.0.0.dev0,>=1.19.0 in c:\\.school\\csci 40 stuff\\lab 03\\csci 161.03\\lib\\site-packages (from google-api-python-client) (2.23.3)\n",
      "Requirement already satisfied: google-auth-httplib2>=0.1.0 in c:\\.school\\csci 40 stuff\\lab 03\\csci 161.03\\lib\\site-packages (from google-api-python-client) (0.1.1)\n",
      "Requirement already satisfied: google-api-core!=2.0.*,!=2.1.*,!=2.2.*,!=2.3.0,<3.0.0.dev0,>=1.31.5 in c:\\.school\\csci 40 stuff\\lab 03\\csci 161.03\\lib\\site-packages (from google-api-python-client) (2.12.0)\n",
      "Requirement already satisfied: uritemplate<5,>=3.0.1 in c:\\.school\\csci 40 stuff\\lab 03\\csci 161.03\\lib\\site-packages (from google-api-python-client) (4.1.1)\n",
      "Requirement already satisfied: googleapis-common-protos<2.0.dev0,>=1.56.2 in c:\\.school\\csci 40 stuff\\lab 03\\csci 161.03\\lib\\site-packages (from google-api-core!=2.0.*,!=2.1.*,!=2.2.*,!=2.3.0,<3.0.0.dev0,>=1.31.5->google-api-python-client) (1.61.0)\n",
      "Requirement already satisfied: protobuf!=3.20.0,!=3.20.1,!=4.21.0,!=4.21.1,!=4.21.2,!=4.21.3,!=4.21.4,!=4.21.5,<5.0.0.dev0,>=3.19.5 in c:\\.school\\csci 40 stuff\\lab 03\\csci 161.03\\lib\\site-packages (from google-api-core!=2.0.*,!=2.1.*,!=2.2.*,!=2.3.0,<3.0.0.dev0,>=1.31.5->google-api-python-client) (4.24.4)\n",
      "Requirement already satisfied: requests<3.0.0.dev0,>=2.18.0 in c:\\.school\\csci 40 stuff\\lab 03\\csci 161.03\\lib\\site-packages (from google-api-core!=2.0.*,!=2.1.*,!=2.2.*,!=2.3.0,<3.0.0.dev0,>=1.31.5->google-api-python-client) (2.31.0)\n",
      "Requirement already satisfied: cachetools<6.0,>=2.0.0 in c:\\.school\\csci 40 stuff\\lab 03\\csci 161.03\\lib\\site-packages (from google-auth<3.0.0.dev0,>=1.19.0->google-api-python-client) (5.3.1)\n",
      "Requirement already satisfied: pyasn1-modules>=0.2.1 in c:\\.school\\csci 40 stuff\\lab 03\\csci 161.03\\lib\\site-packages (from google-auth<3.0.0.dev0,>=1.19.0->google-api-python-client) (0.3.0)\n",
      "Requirement already satisfied: rsa<5,>=3.1.4 in c:\\.school\\csci 40 stuff\\lab 03\\csci 161.03\\lib\\site-packages (from google-auth<3.0.0.dev0,>=1.19.0->google-api-python-client) (4.9)\n",
      "Requirement already satisfied: pyparsing!=3.0.0,!=3.0.1,!=3.0.2,!=3.0.3,<4,>=2.4.2 in c:\\.school\\csci 40 stuff\\lab 03\\csci 161.03\\lib\\site-packages (from httplib2<1.dev0,>=0.15.0->google-api-python-client) (3.1.1)\n",
      "Requirement already satisfied: pyasn1<0.6.0,>=0.4.6 in c:\\.school\\csci 40 stuff\\lab 03\\csci 161.03\\lib\\site-packages (from pyasn1-modules>=0.2.1->google-auth<3.0.0.dev0,>=1.19.0->google-api-python-client) (0.5.0)\n",
      "Requirement already satisfied: charset-normalizer<4,>=2 in c:\\.school\\csci 40 stuff\\lab 03\\csci 161.03\\lib\\site-packages (from requests<3.0.0.dev0,>=2.18.0->google-api-core!=2.0.*,!=2.1.*,!=2.2.*,!=2.3.0,<3.0.0.dev0,>=1.31.5->google-api-python-client) (3.3.0)\n",
      "Requirement already satisfied: idna<4,>=2.5 in c:\\.school\\csci 40 stuff\\lab 03\\csci 161.03\\lib\\site-packages (from requests<3.0.0.dev0,>=2.18.0->google-api-core!=2.0.*,!=2.1.*,!=2.2.*,!=2.3.0,<3.0.0.dev0,>=1.31.5->google-api-python-client) (3.4)\n",
      "Requirement already satisfied: urllib3<3,>=1.21.1 in c:\\.school\\csci 40 stuff\\lab 03\\csci 161.03\\lib\\site-packages (from requests<3.0.0.dev0,>=2.18.0->google-api-core!=2.0.*,!=2.1.*,!=2.2.*,!=2.3.0,<3.0.0.dev0,>=1.31.5->google-api-python-client) (2.0.6)\n",
      "Requirement already satisfied: certifi>=2017.4.17 in c:\\.school\\csci 40 stuff\\lab 03\\csci 161.03\\lib\\site-packages (from requests<3.0.0.dev0,>=2.18.0->google-api-core!=2.0.*,!=2.1.*,!=2.2.*,!=2.3.0,<3.0.0.dev0,>=1.31.5->google-api-python-client) (2023.7.22)\n"
     ]
    },
    {
     "name": "stderr",
     "output_type": "stream",
     "text": [
      "\n",
      "[notice] A new release of pip available: 22.3.1 -> 23.3.1\n",
      "[notice] To update, run: python.exe -m pip install --upgrade pip\n"
     ]
    },
    {
     "name": "stdout",
     "output_type": "stream",
     "text": [
      "Requirement already satisfied: openpyxl in c:\\.school\\csci 40 stuff\\lab 03\\csci 161.03\\lib\\site-packages (3.1.2)\n",
      "Requirement already satisfied: et-xmlfile in c:\\.school\\csci 40 stuff\\lab 03\\csci 161.03\\lib\\site-packages (from openpyxl) (1.1.0)\n"
     ]
    },
    {
     "name": "stderr",
     "output_type": "stream",
     "text": [
      "\n",
      "[notice] A new release of pip available: 22.3.1 -> 23.3.1\n",
      "[notice] To update, run: python.exe -m pip install --upgrade pip\n"
     ]
    },
    {
     "name": "stdout",
     "output_type": "stream",
     "text": [
      "Requirement already satisfied: langdetect in c:\\.school\\csci 40 stuff\\lab 03\\csci 161.03\\lib\\site-packages (1.0.9)\n",
      "Requirement already satisfied: six in c:\\.school\\csci 40 stuff\\lab 03\\csci 161.03\\lib\\site-packages (from langdetect) (1.16.0)\n"
     ]
    },
    {
     "name": "stderr",
     "output_type": "stream",
     "text": [
      "\n",
      "[notice] A new release of pip available: 22.3.1 -> 23.3.1\n",
      "[notice] To update, run: python.exe -m pip install --upgrade pip\n"
     ]
    }
   ],
   "source": [
    "!pip install google-api-python-client\n",
    "!pip install openpyxl\n",
    "!pip install langdetect"
   ]
  },
  {
   "cell_type": "markdown",
   "metadata": {
    "collapsed": false
   },
   "source": [
    "# Youtube Scraper"
   ]
  },
  {
   "cell_type": "code",
   "execution_count": 5,
   "metadata": {
    "collapsed": true
   },
   "outputs": [],
   "source": [
    "import pandas as pd\n",
    "import html\n",
    "from googleapiclient.discovery import build\n",
    "from langdetect import detect"
   ]
  },
  {
   "cell_type": "code",
   "execution_count": 6,
   "metadata": {
    "collapsed": false
   },
   "outputs": [],
   "source": [
    "with open('api_key.txt', 'r') as f:\n",
    "    API_KEY = f.read()\n",
    "\n",
    "youtube = build('youtube', 'v3', developerKey = API_KEY)"
   ]
  },
  {
   "cell_type": "code",
   "execution_count": 7,
   "metadata": {
    "collapsed": false
   },
   "outputs": [],
   "source": [
    "def extract_comments(video_id, no_comments, min_likes):\n",
    "\n",
    "  # re-initialize list of YouTube comments\n",
    "  comments = []\n",
    "\n",
    "  # get first page of comments\n",
    "  video_response=youtube.commentThreads().list(part='snippet,replies',videoId=video_id).execute()\n",
    "\n",
    "  # begin a loop that will continue running until we reach no_comments\n",
    "  while len(comments) < no_comments:\n",
    "\n",
    "    # iterate through items\n",
    "    for item in video_response['items']:\n",
    "\n",
    "      # append comment to list of comments\n",
    "      if item['snippet']['topLevelComment']['snippet']['likeCount'] >= min_likes:\n",
    "        comment = item['snippet']['topLevelComment']['snippet']['textDisplay']\n",
    "        comment = html.unescape(comment)\n",
    "        try:\n",
    "          if detect(comment) == 'en':\n",
    "            comments.append(comment)\n",
    "          else: print(detect(comment) + \" comment detected.\")\n",
    "        except:\n",
    "            print(\"This comment throws an error:\", comment)\n",
    "\n",
    "    # print number of comments\n",
    "    if len(comments) % 50 == 0:\n",
    "      print(str(len(comments)) + ' comments in list')\n",
    "\n",
    "    # if there is a next page to the comment results\n",
    "    if 'nextPageToken' in video_response:\n",
    "\n",
    "      # notify that next page has been found\n",
    "      # print('Next comment page found. Now extracting data.')\n",
    "\n",
    "      # extract data from that page of comment results\n",
    "      video_response = youtube.commentThreads().list(part = 'snippet,replies',videoId = video_id,\n",
    "                                                  pageToken = video_response['nextPageToken']).execute()\n",
    "\n",
    "    # if there is no more next page, end the loop\n",
    "    else:\n",
    "      break\n",
    "\n",
    "  return comments"
   ]
  },
  {
   "cell_type": "code",
   "execution_count": 8,
   "metadata": {
    "collapsed": false
   },
   "outputs": [],
   "source": [
    "def create_corpus(links, quantity, min_likes):\n",
    "  video_id = []\n",
    "  comments = []\n",
    "\n",
    "  for link in links:\n",
    "      video_id.append(link.split(\"watch?v=\", 1)[1])\n",
    "  for i in range(len(video_id)):\n",
    "    comments += extract_comments(video_id[i], quantity[i], min_likes[i])\n",
    "\n",
    "  df = pd.DataFrame(comments, columns = ['text'])\n",
    "  return df"
   ]
  },
  {
   "cell_type": "markdown",
   "metadata": {
    "collapsed": false
   },
   "source": [
    "DEATH NOTE"
   ]
  },
  {
   "cell_type": "code",
   "execution_count": 9,
   "metadata": {
    "collapsed": false
   },
   "outputs": [
    {
     "name": "stdout",
     "output_type": "stream",
     "text": [
      "ja comment detected.\n",
      "en comment detected.\n",
      "cy comment detected.\n",
      "vi comment detected.\n",
      "zh-cn comment detected.\n",
      "th comment detected.\n",
      "This comment throws an error: 💙\n",
      "cy comment detected.\n",
      "id comment detected.\n",
      "sw comment detected.\n",
      "This comment throws an error: L😂😂😂\n",
      "es comment detected.\n",
      "fi comment detected.\n",
      "id comment detected.\n",
      "sq comment detected.\n",
      "it comment detected.\n",
      "sk comment detected.\n",
      "hr comment detected.\n",
      "This comment throws an error: 😂\n",
      "no comment detected.\n",
      "100 comments in list\n",
      "tl comment detected.\n",
      "uk comment detected.\n",
      "This comment throws an error: 🖕🏻🖕🏻🖕🏻🖕🏻🖕🏻🖕🏻🖕🏻🖕🏻🖕🏻🖕🏻🖕🏻🖕🏻🖕🏻🖕🏻\n",
      "de comment detected.\n",
      "nl comment detected.\n",
      "This comment throws an error: 💀💀💀💀💀💀💀\n",
      "cy comment detected.\n",
      "ja comment detected.\n",
      "de comment detected.\n",
      "es comment detected.\n",
      "ru comment detected.\n",
      "ca comment detected.\n",
      "so comment detected.\n",
      "de comment detected.\n",
      "es comment detected.\n",
      "sq comment detected.\n",
      "tr comment detected.\n",
      "id comment detected.\n",
      "ru comment detected.\n",
      "This comment throws an error: 👎👎👎\n",
      "This comment throws an error: 🤮🤮🤮\n",
      "sw comment detected.\n",
      "no comment detected.\n",
      "no comment detected.\n",
      "af comment detected.\n",
      "es comment detected.\n",
      "vi comment detected.\n",
      "ca comment detected.\n",
      "cy comment detected.\n",
      "de comment detected.\n",
      "af comment detected.\n",
      "tr comment detected.\n",
      "nl comment detected.\n",
      "it comment detected.\n",
      "mk comment detected.\n",
      "it comment detected.\n",
      "so comment detected.\n",
      "it comment detected.\n",
      "so comment detected.\n",
      "de comment detected.\n",
      "et comment detected.\n",
      "it comment detected.\n",
      "es comment detected.\n",
      "cy comment detected.\n",
      "sq comment detected.\n",
      "es comment detected.\n",
      "en comment detected.\n",
      "af comment detected.\n",
      "de comment detected.\n",
      "it comment detected.\n",
      "th comment detected.\n",
      "th comment detected.\n",
      "fr comment detected.\n",
      "da comment detected.\n",
      "This comment throws an error: 😂😂\n",
      "da comment detected.\n",
      "so comment detected.\n",
      "id comment detected.\n"
     ]
    },
    {
     "name": "stderr",
     "output_type": "stream",
     "text": [
      "\n",
      "KeyboardInterrupt\n",
      "\n"
     ]
    }
   ],
   "source": [
    "death_note_links = ['https://www.youtube.com/watch?v=gvxNaSIB_WI', 'https://www.youtube.com/watch?v=Dl6btU2QgHI', 'https://www.youtube.com/watch?v=pMg2LNmND8Q']\n",
    "death_note_quantity = [4600, 2200, 200]\n",
    "death_note_min_likes = [0 for item in death_note_links]\n",
    "death_note_comments = create_corpus(death_note_links, death_note_quantity, death_note_min_likes)"
   ]
  },
  {
   "cell_type": "code",
   "execution_count": null,
   "metadata": {
    "collapsed": false
   },
   "outputs": [],
   "source": [
    "death_note_comments"
   ]
  },
  {
   "cell_type": "code",
   "execution_count": null,
   "metadata": {
    "collapsed": false
   },
   "outputs": [],
   "source": [
    "death_note_comments.to_excel('death_note.xlsx')"
   ]
  },
  {
   "cell_type": "markdown",
   "metadata": {
    "collapsed": false
   },
   "source": [
    "COWBOY BEBOP"
   ]
  },
  {
   "cell_type": "code",
   "execution_count": null,
   "metadata": {
    "collapsed": false
   },
   "outputs": [],
   "source": [
    "cowboy_bebop_links = ['https://www.youtube.com/watch?v=ULCIHP5dc44', 'https://www.youtube.com/watch?v=AMepjjkL5zc', 'https://www.youtube.com/watch?v=5gNCvrcztbQ']\n",
    "cowboy_bebop_quantity = [3600, 2700, 700]\n",
    "cowboy_bebop_min_likes = [0 for item in cowboy_bebop_links]\n",
    "cowboy_bebop_comments = create_corpus(cowboy_bebop_links,cowboy_bebop_quantity, cowboy_bebop_min_likes)"
   ]
  },
  {
   "cell_type": "code",
   "execution_count": null,
   "metadata": {
    "collapsed": false
   },
   "outputs": [],
   "source": [
    "cowboy_bebop_comments"
   ]
  },
  {
   "cell_type": "code",
   "execution_count": null,
   "metadata": {
    "collapsed": false
   },
   "outputs": [],
   "source": [
    "cowboy_bebop_comments.to_excel('cowboy_bebop.xlsx')"
   ]
  },
  {
   "cell_type": "markdown",
   "metadata": {
    "collapsed": false
   },
   "source": [
    "ONE PIECE"
   ]
  },
  {
   "cell_type": "code",
   "execution_count": null,
   "metadata": {
    "collapsed": false
   },
   "outputs": [],
   "source": [
    "one_piece_links = ['https://www.youtube.com/watch?v=Ades3pQbeh8', 'https://www.youtube.com/watch?v=dhc7qHZ7Eg4',\n",
    "                   'https://www.youtube.com/watch?v=Zn98CE-R_0Q', 'https://www.youtube.com/watch?v=b-zdsLmW0wE',\n",
    "                   'https://www.youtube.com/watch?v=mnmaS_wATq4']\n",
    "one_piece_quantity = [1200, 2250, 2250, 800, 500]\n",
    "one_piece_min_likes = [10, 0, 0, 0, 0]\n",
    "one_piece_comments = create_corpus(one_piece_links, one_piece_quantity, one_piece_min_likes)"
   ]
  },
  {
   "cell_type": "code",
   "execution_count": null,
   "metadata": {
    "collapsed": false
   },
   "outputs": [],
   "source": [
    "one_piece_comments"
   ]
  },
  {
   "cell_type": "code",
   "execution_count": null,
   "metadata": {
    "collapsed": false
   },
   "outputs": [],
   "source": [
    "one_piece_comments.to_excel('one_piece.xlsx')"
   ]
  },
  {
   "cell_type": "markdown",
   "metadata": {
    "collapsed": false
   },
   "source": [
    "ALICE IN BORDERLAND"
   ]
  },
  {
   "cell_type": "code",
   "execution_count": null,
   "metadata": {
    "collapsed": false
   },
   "outputs": [],
   "source": [
    "alice_borderland_links = ['https://www.youtube.com/watch?v=49_44FFKZ1M', 'https://www.youtube.com/watch?v=lcBbyBkVjVY', 'https://www.youtube.com/watch?v=SCy6sLMfI0c']\n",
    "alice_borderland_quantity = [9350, 600, 50]\n",
    "alice_borderland_min_likes = [0 for item in alice_borderland_links]\n",
    "alice_borderland_comments = create_corpus(alice_borderland_links, alice_borderland_quantity, alice_borderland_min_likes)"
   ]
  },
  {
   "cell_type": "code",
   "execution_count": null,
   "metadata": {
    "collapsed": false
   },
   "outputs": [],
   "source": [
    "alice_borderland_comments"
   ]
  },
  {
   "cell_type": "code",
   "execution_count": null,
   "metadata": {
    "collapsed": false
   },
   "outputs": [],
   "source": [
    "alice_borderland_comments.to_excel('alice_in_borderland.xlsx')"
   ]
  },
  {
   "cell_type": "code",
   "execution_count": null,
   "metadata": {
    "collapsed": false
   },
   "outputs": [],
   "source": [
    "alice_borderland_comments"
   ]
  },
  {
   "cell_type": "markdown",
   "metadata": {
    "collapsed": false
   },
   "source": [
    "DRAGONBALL: EVOLUTION"
   ]
  },
  {
   "cell_type": "code",
   "execution_count": null,
   "metadata": {
    "collapsed": false
   },
   "outputs": [],
   "source": [
    "dragonball_evolution_links = ['https://www.youtube.com/watch?v=T4_wHfz2qUA', 'https://www.youtube.com/watch?v=DkweFekdpmo', 'https://www.youtube.com/watch?v=L-yUfsxw7es']\n",
    "dragonball_evolution_quantity = [3700, 300, 6000]\n",
    "dragonball_evolution_min_likes = [0 for item in dragonball_evolution_links]\n",
    "dragonball_evolution_comments = create_corpus(dragonball_evolution_links, dragonball_evolution_quantity, dragonball_evolution_min_likes)\n",
    "dragonball_evolution_comments.to_excel('dragonball_evolution.xlsx')"
   ]
  },
  {
   "cell_type": "code",
   "execution_count": null,
   "metadata": {
    "collapsed": false
   },
   "outputs": [],
   "source": [
    "dragonball_evolution_comments"
   ]
  },
  {
   "cell_type": "code",
   "execution_count": null,
   "metadata": {
    "collapsed": false
   },
   "outputs": [],
   "source": [
    "dragonball_evolution_comments = dragonball_evolution_comments.iloc[:7007]\n",
    "dragonball_evolution_comments.to_excel('dragonball_evolution.xlsx')"
   ]
  },
  {
   "cell_type": "markdown",
   "metadata": {
    "collapsed": false
   },
   "source": [
    "BLEACH"
   ]
  },
  {
   "cell_type": "code",
   "execution_count": null,
   "metadata": {
    "collapsed": false
   },
   "outputs": [],
   "source": [
    "bleach_links = ['https://www.youtube.com/watch?v=nwPSoP7qEi4','https://www.youtube.com/watch?v=xHxA0xuedaw','https://www.youtube.com/watch?v=oblZrnM9p6A','https://www.youtube.com/watch?v=2Bw2Kq-EWdc','https://www.youtube.com/watch?v=zN1c6QvNjTI']\n",
    "bleach_quantity = [2000, 2000, 4100, 500, 500]\n",
    "bleach_min_likes = [0 for item in bleach_links]\n",
    "bleach_comments = create_corpus(bleach_links, bleach_quantity, bleach_min_likes)"
   ]
  },
  {
   "cell_type": "code",
   "execution_count": null,
   "metadata": {
    "collapsed": false
   },
   "outputs": [],
   "source": [
    "bleach_comments"
   ]
  },
  {
   "cell_type": "code",
   "execution_count": null,
   "metadata": {
    "collapsed": false
   },
   "outputs": [],
   "source": [
    "bleach_comments.to_excel('bleach.xlsx')"
   ]
  },
  {
   "cell_type": "markdown",
   "metadata": {},
   "source": [
    "# Rotten Tomatoes Scraper"
   ]
  },
  {
   "cell_type": "code",
   "execution_count": 10,
   "metadata": {
    "collapsed": false
   },
   "outputs": [
    {
     "name": "stdout",
     "output_type": "stream",
     "text": [
      "Requirement already satisfied: selenium in c:\\.school\\csci 40 stuff\\lab 03\\csci 161.03\\lib\\site-packages (4.15.2)\n",
      "Requirement already satisfied: urllib3[socks]<3,>=1.26 in c:\\.school\\csci 40 stuff\\lab 03\\csci 161.03\\lib\\site-packages (from selenium) (2.0.6)\n",
      "Requirement already satisfied: trio~=0.17 in c:\\.school\\csci 40 stuff\\lab 03\\csci 161.03\\lib\\site-packages (from selenium) (0.23.1)\n",
      "Requirement already satisfied: trio-websocket~=0.9 in c:\\.school\\csci 40 stuff\\lab 03\\csci 161.03\\lib\\site-packages (from selenium) (0.11.1)\n",
      "Requirement already satisfied: certifi>=2021.10.8 in c:\\.school\\csci 40 stuff\\lab 03\\csci 161.03\\lib\\site-packages (from selenium) (2023.7.22)\n",
      "Requirement already satisfied: attrs>=20.1.0 in c:\\.school\\csci 40 stuff\\lab 03\\csci 161.03\\lib\\site-packages (from trio~=0.17->selenium) (23.1.0)\n",
      "Requirement already satisfied: sortedcontainers in c:\\.school\\csci 40 stuff\\lab 03\\csci 161.03\\lib\\site-packages (from trio~=0.17->selenium) (2.4.0)\n",
      "Requirement already satisfied: idna in c:\\.school\\csci 40 stuff\\lab 03\\csci 161.03\\lib\\site-packages (from trio~=0.17->selenium) (3.4)\n",
      "Requirement already satisfied: outcome in c:\\.school\\csci 40 stuff\\lab 03\\csci 161.03\\lib\\site-packages (from trio~=0.17->selenium) (1.3.0.post0)\n",
      "Requirement already satisfied: sniffio>=1.3.0 in c:\\.school\\csci 40 stuff\\lab 03\\csci 161.03\\lib\\site-packages (from trio~=0.17->selenium) (1.3.0)\n",
      "Requirement already satisfied: cffi>=1.14 in c:\\.school\\csci 40 stuff\\lab 03\\csci 161.03\\lib\\site-packages (from trio~=0.17->selenium) (1.16.0)\n",
      "Requirement already satisfied: wsproto>=0.14 in c:\\.school\\csci 40 stuff\\lab 03\\csci 161.03\\lib\\site-packages (from trio-websocket~=0.9->selenium) (1.2.0)\n",
      "Requirement already satisfied: pysocks!=1.5.7,<2.0,>=1.5.6 in c:\\.school\\csci 40 stuff\\lab 03\\csci 161.03\\lib\\site-packages (from urllib3[socks]<3,>=1.26->selenium) (1.7.1)\n",
      "Requirement already satisfied: pycparser in c:\\.school\\csci 40 stuff\\lab 03\\csci 161.03\\lib\\site-packages (from cffi>=1.14->trio~=0.17->selenium) (2.21)\n",
      "Requirement already satisfied: h11<1,>=0.9.0 in c:\\.school\\csci 40 stuff\\lab 03\\csci 161.03\\lib\\site-packages (from wsproto>=0.14->trio-websocket~=0.9->selenium) (0.14.0)\n"
     ]
    },
    {
     "name": "stderr",
     "output_type": "stream",
     "text": [
      "\n",
      "[notice] A new release of pip available: 22.3.1 -> 23.3.1\n",
      "[notice] To update, run: python.exe -m pip install --upgrade pip\n"
     ]
    }
   ],
   "source": [
    "!pip install selenium"
   ]
  },
  {
   "cell_type": "code",
   "execution_count": 11,
   "metadata": {
    "collapsed": false
   },
   "outputs": [],
   "source": [
    "from selenium import webdriver\n",
    "from selenium.webdriver.support.ui import WebDriverWait\n",
    "from selenium.webdriver.support import expected_conditions as EC\n",
    "import re"
   ]
  },
  {
   "cell_type": "code",
   "execution_count": 19,
   "metadata": {
    "collapsed": false
   },
   "outputs": [],
   "source": [
    "def get_rotten_reviews(url):\n",
    "    driver = webdriver.Chrome()\n",
    "    text = []\n",
    "    user = []\n",
    "    date = []\n",
    "    rating = []\n",
    "    page = 1\n",
    "    driver.get(url)\n",
    "\n",
    "    while True:\n",
    "        # Locate review elements using Selenium\n",
    "        reviews = driver.find_elements(By.CLASS_NAME, \"audience-review-row\")\n",
    "\n",
    "        for review in reviews:\n",
    "            temp_rating = 0\n",
    "            review_text = review.find_element(By.CLASS_NAME, \"audience-reviews__review\").text.strip()\n",
    "            review_text = re.sub(r'[^A-Za-z0-9\\s.,!?]', '', review_text)\n",
    "            text.append(review_text)\n",
    "\n",
    "            review_date = review.find_element(By.CLASS_NAME, \"audience-reviews__duration\").text\n",
    "            date.append(review_date)\n",
    "\n",
    "            review_ratings_1 = review.find_elements(By.CLASS_NAME, \"star-display__filled\")\n",
    "            review_ratings_half = review.find_elements(By.CLASS_NAME, \"star-display__half\")\n",
    "            for n in review_ratings_1:\n",
    "                temp_rating += 1\n",
    "            for n in review_ratings_half:\n",
    "                temp_rating += 0.5\n",
    "            rating.append(temp_rating)\n",
    "\n",
    "\n",
    "            try:\n",
    "                review_user = review.find_element(By.CLASS_NAME, \"audience-reviews__name\").text\n",
    "                user.append(review_user)\n",
    "            except:\n",
    "                user.append(\"None\")\n",
    "\n",
    "\n",
    "        next_button = driver.find_element(By.CLASS_NAME, 'next')\n",
    "        print(\"reviews: \" + str(len(text)))\n",
    "\n",
    "        if next_button.is_enabled():\n",
    "            try:\n",
    "                next_button.click()\n",
    "                page += 1\n",
    "                print(\"Now on page \" + str(page))\n",
    "                # Wait for the new page to load\n",
    "                wait = WebDriverWait(driver, 60)\n",
    "                wait.until(EC.staleness_of(reviews[0]))  # Wait for the first review to become stale (i.e., removed)\n",
    "            except:\n",
    "                break\n",
    "        else:\n",
    "            break  # Exit the loop if there's no \"Next\" button (no more pages)\n",
    "\n",
    "    review_data = {'User_name': user,\n",
    "                   'Review Rating': rating,\n",
    "                   'Review date' : date,\n",
    "                   'Review_body' : text}\n",
    "\n",
    "    df = pd.DataFrame(review_data)\n",
    "\n",
    "    return df"
   ]
  },
  {
   "cell_type": "code",
   "execution_count": 20,
   "metadata": {
    "collapsed": false
   },
   "outputs": [
    {
     "name": "stdout",
     "output_type": "stream",
     "text": [
      "reviews: 20\n",
      "Now on page 2\n",
      "reviews: 40\n",
      "Now on page 3\n",
      "reviews: 60\n",
      "Now on page 4\n",
      "reviews: 80\n",
      "Now on page 5\n",
      "reviews: 100\n",
      "Now on page 6\n",
      "reviews: 120\n",
      "Now on page 7\n",
      "reviews: 140\n",
      "Now on page 8\n",
      "reviews: 160\n",
      "Now on page 9\n",
      "reviews: 180\n",
      "Now on page 10\n",
      "reviews: 200\n",
      "Now on page 11\n",
      "reviews: 220\n",
      "Now on page 12\n",
      "reviews: 240\n",
      "Now on page 13\n",
      "reviews: 244\n",
      "reviews: 20\n",
      "Now on page 2\n"
     ]
    },
    {
     "name": "stderr",
     "output_type": "stream",
     "text": [
      "Exception ignored in: <function Service.__del__ at 0x000002A4C2199760>\n",
      "Traceback (most recent call last):\n",
      "  File \"C:\\.School\\CSCI 40 Stuff\\Lab 03\\CSCI 161.03\\Lib\\site-packages\\selenium\\webdriver\\common\\service.py\", line 185, in __del__\n",
      "    self.stop()\n",
      "  File \"C:\\.School\\CSCI 40 Stuff\\Lab 03\\CSCI 161.03\\Lib\\site-packages\\selenium\\webdriver\\common\\service.py\", line 146, in stop\n",
      "    self.send_remote_shutdown_command()\n",
      "  File \"C:\\.School\\CSCI 40 Stuff\\Lab 03\\CSCI 161.03\\Lib\\site-packages\\selenium\\webdriver\\common\\service.py\", line 131, in send_remote_shutdown_command\n",
      "    if not self.is_connectable():\n",
      "           ^^^^^^^^^^^^^^^^^^^^^\n",
      "  File \"C:\\.School\\CSCI 40 Stuff\\Lab 03\\CSCI 161.03\\Lib\\site-packages\\selenium\\webdriver\\common\\service.py\", line 120, in is_connectable\n",
      "    return utils.is_connectable(self.port)\n",
      "           ^^^^^^^^^^^^^^^^^^^^^^^^^^^^^^^\n",
      "  File \"C:\\.School\\CSCI 40 Stuff\\Lab 03\\CSCI 161.03\\Lib\\site-packages\\selenium\\webdriver\\common\\utils.py\", line 101, in is_connectable\n",
      "    socket_ = socket.create_connection((host, port), 1)\n",
      "              ^^^^^^^^^^^^^^^^^^^^^^^^^^^^^^^^^^^^^^^^^\n",
      "  File \"C:\\Program Files\\Python311\\Lib\\socket.py\", line 843, in create_connection\n",
      "    exceptions.clear()  # raise only the last error\n",
      "    ^^^^^^^^^^^^^^^^^^\n",
      "KeyboardInterrupt: \n"
     ]
    },
    {
     "ename": "NoSuchWindowException",
     "evalue": "Message: no such window: target window already closed\nfrom unknown error: web view not found\n  (Session info: chrome=119.0.6045.124)\nStacktrace:\n\tGetHandleVerifier [0x00007FF628A282B2+55298]\n\t(No symbol) [0x00007FF628995E02]\n\t(No symbol) [0x00007FF6288505AB]\n\t(No symbol) [0x00007FF628830038]\n\t(No symbol) [0x00007FF6288B6BC7]\n\t(No symbol) [0x00007FF6288CA15F]\n\t(No symbol) [0x00007FF6288B1E83]\n\t(No symbol) [0x00007FF62888670A]\n\t(No symbol) [0x00007FF628887964]\n\tGetHandleVerifier [0x00007FF628DA0AAB+3694587]\n\tGetHandleVerifier [0x00007FF628DF728E+4048862]\n\tGetHandleVerifier [0x00007FF628DEF173+4015811]\n\tGetHandleVerifier [0x00007FF628AC47D6+695590]\n\t(No symbol) [0x00007FF6289A0CE8]\n\t(No symbol) [0x00007FF62899CF34]\n\t(No symbol) [0x00007FF62899D062]\n\t(No symbol) [0x00007FF62898D3A3]\n\tBaseThreadInitThunk [0x00007FFDB9B4257D+29]\n\tRtlUserThreadStart [0x00007FFDBA7AAA78+40]\n",
     "output_type": "error",
     "traceback": [
      "\u001B[1;31m---------------------------------------------------------------------------\u001B[0m",
      "\u001B[1;31mNoSuchWindowException\u001B[0m                     Traceback (most recent call last)",
      "Cell \u001B[1;32mIn[20], line 10\u001B[0m\n\u001B[0;32m      7\u001B[0m titles \u001B[38;5;241m=\u001B[39m [\u001B[38;5;124m\"\u001B[39m\u001B[38;5;124mAlice in Borderland\u001B[39m\u001B[38;5;124m\"\u001B[39m, \u001B[38;5;124m\"\u001B[39m\u001B[38;5;124mBleach\u001B[39m\u001B[38;5;124m\"\u001B[39m, \u001B[38;5;124m\"\u001B[39m\u001B[38;5;124mCowboy Bebop\u001B[39m\u001B[38;5;124m\"\u001B[39m, \u001B[38;5;124m\"\u001B[39m\u001B[38;5;124mDeath Note\u001B[39m\u001B[38;5;124m\"\u001B[39m, \u001B[38;5;124m\"\u001B[39m\u001B[38;5;124mDragonball꞉ Evolution\u001B[39m\u001B[38;5;124m\"\u001B[39m, \u001B[38;5;124m\"\u001B[39m\u001B[38;5;124mOne Piece\u001B[39m\u001B[38;5;124m\"\u001B[39m]\n\u001B[0;32m      9\u001B[0m \u001B[38;5;28;01mfor\u001B[39;00m i \u001B[38;5;129;01min\u001B[39;00m \u001B[38;5;28mrange\u001B[39m(\u001B[38;5;28mlen\u001B[39m(titles)):\n\u001B[1;32m---> 10\u001B[0m     reviews \u001B[38;5;241m=\u001B[39m \u001B[43mget_rotten_reviews\u001B[49m\u001B[43m(\u001B[49m\u001B[43mrotten_links\u001B[49m\u001B[43m[\u001B[49m\u001B[43mi\u001B[49m\u001B[43m]\u001B[49m\u001B[43m)\u001B[49m\n\u001B[0;32m     11\u001B[0m     reviews\u001B[38;5;241m.\u001B[39mto_csv(\u001B[38;5;124m'\u001B[39m\u001B[38;5;124mrotten_reviews_\u001B[39m\u001B[38;5;124m'\u001B[39m\u001B[38;5;241m+\u001B[39mtitles[i]\u001B[38;5;241m+\u001B[39m\u001B[38;5;124m'\u001B[39m\u001B[38;5;124m.csv\u001B[39m\u001B[38;5;124m'\u001B[39m, index\u001B[38;5;241m=\u001B[39m\u001B[38;5;28;01mFalse\u001B[39;00m)\n",
      "Cell \u001B[1;32mIn[19], line 39\u001B[0m, in \u001B[0;36mget_rotten_reviews\u001B[1;34m(url)\u001B[0m\n\u001B[0;32m     35\u001B[0m     \u001B[38;5;28;01mexcept\u001B[39;00m:\n\u001B[0;32m     36\u001B[0m         user\u001B[38;5;241m.\u001B[39mappend(\u001B[38;5;124m\"\u001B[39m\u001B[38;5;124mNone\u001B[39m\u001B[38;5;124m\"\u001B[39m)\n\u001B[1;32m---> 39\u001B[0m next_button \u001B[38;5;241m=\u001B[39m \u001B[43mdriver\u001B[49m\u001B[38;5;241;43m.\u001B[39;49m\u001B[43mfind_element\u001B[49m\u001B[43m(\u001B[49m\u001B[43mBy\u001B[49m\u001B[38;5;241;43m.\u001B[39;49m\u001B[43mCLASS_NAME\u001B[49m\u001B[43m,\u001B[49m\u001B[43m \u001B[49m\u001B[38;5;124;43m'\u001B[39;49m\u001B[38;5;124;43mnext\u001B[39;49m\u001B[38;5;124;43m'\u001B[39;49m\u001B[43m)\u001B[49m\n\u001B[0;32m     40\u001B[0m \u001B[38;5;28mprint\u001B[39m(\u001B[38;5;124m\"\u001B[39m\u001B[38;5;124mreviews: \u001B[39m\u001B[38;5;124m\"\u001B[39m \u001B[38;5;241m+\u001B[39m \u001B[38;5;28mstr\u001B[39m(\u001B[38;5;28mlen\u001B[39m(text)))\n\u001B[0;32m     42\u001B[0m \u001B[38;5;28;01mif\u001B[39;00m next_button\u001B[38;5;241m.\u001B[39mis_enabled():\n",
      "File \u001B[1;32mC:\\.School\\CSCI 40 Stuff\\Lab 03\\CSCI 161.03\\Lib\\site-packages\\selenium\\webdriver\\remote\\webdriver.py:741\u001B[0m, in \u001B[0;36mWebDriver.find_element\u001B[1;34m(self, by, value)\u001B[0m\n\u001B[0;32m    738\u001B[0m     by \u001B[38;5;241m=\u001B[39m By\u001B[38;5;241m.\u001B[39mCSS_SELECTOR\n\u001B[0;32m    739\u001B[0m     value \u001B[38;5;241m=\u001B[39m \u001B[38;5;124mf\u001B[39m\u001B[38;5;124m'\u001B[39m\u001B[38;5;124m[name=\u001B[39m\u001B[38;5;124m\"\u001B[39m\u001B[38;5;132;01m{\u001B[39;00mvalue\u001B[38;5;132;01m}\u001B[39;00m\u001B[38;5;124m\"\u001B[39m\u001B[38;5;124m]\u001B[39m\u001B[38;5;124m'\u001B[39m\n\u001B[1;32m--> 741\u001B[0m \u001B[38;5;28;01mreturn\u001B[39;00m \u001B[38;5;28;43mself\u001B[39;49m\u001B[38;5;241;43m.\u001B[39;49m\u001B[43mexecute\u001B[49m\u001B[43m(\u001B[49m\u001B[43mCommand\u001B[49m\u001B[38;5;241;43m.\u001B[39;49m\u001B[43mFIND_ELEMENT\u001B[49m\u001B[43m,\u001B[49m\u001B[43m \u001B[49m\u001B[43m{\u001B[49m\u001B[38;5;124;43m\"\u001B[39;49m\u001B[38;5;124;43musing\u001B[39;49m\u001B[38;5;124;43m\"\u001B[39;49m\u001B[43m:\u001B[49m\u001B[43m \u001B[49m\u001B[43mby\u001B[49m\u001B[43m,\u001B[49m\u001B[43m \u001B[49m\u001B[38;5;124;43m\"\u001B[39;49m\u001B[38;5;124;43mvalue\u001B[39;49m\u001B[38;5;124;43m\"\u001B[39;49m\u001B[43m:\u001B[49m\u001B[43m \u001B[49m\u001B[43mvalue\u001B[49m\u001B[43m}\u001B[49m\u001B[43m)\u001B[49m[\u001B[38;5;124m\"\u001B[39m\u001B[38;5;124mvalue\u001B[39m\u001B[38;5;124m\"\u001B[39m]\n",
      "File \u001B[1;32mC:\\.School\\CSCI 40 Stuff\\Lab 03\\CSCI 161.03\\Lib\\site-packages\\selenium\\webdriver\\remote\\webdriver.py:347\u001B[0m, in \u001B[0;36mWebDriver.execute\u001B[1;34m(self, driver_command, params)\u001B[0m\n\u001B[0;32m    345\u001B[0m response \u001B[38;5;241m=\u001B[39m \u001B[38;5;28mself\u001B[39m\u001B[38;5;241m.\u001B[39mcommand_executor\u001B[38;5;241m.\u001B[39mexecute(driver_command, params)\n\u001B[0;32m    346\u001B[0m \u001B[38;5;28;01mif\u001B[39;00m response:\n\u001B[1;32m--> 347\u001B[0m     \u001B[38;5;28;43mself\u001B[39;49m\u001B[38;5;241;43m.\u001B[39;49m\u001B[43merror_handler\u001B[49m\u001B[38;5;241;43m.\u001B[39;49m\u001B[43mcheck_response\u001B[49m\u001B[43m(\u001B[49m\u001B[43mresponse\u001B[49m\u001B[43m)\u001B[49m\n\u001B[0;32m    348\u001B[0m     response[\u001B[38;5;124m\"\u001B[39m\u001B[38;5;124mvalue\u001B[39m\u001B[38;5;124m\"\u001B[39m] \u001B[38;5;241m=\u001B[39m \u001B[38;5;28mself\u001B[39m\u001B[38;5;241m.\u001B[39m_unwrap_value(response\u001B[38;5;241m.\u001B[39mget(\u001B[38;5;124m\"\u001B[39m\u001B[38;5;124mvalue\u001B[39m\u001B[38;5;124m\"\u001B[39m, \u001B[38;5;28;01mNone\u001B[39;00m))\n\u001B[0;32m    349\u001B[0m     \u001B[38;5;28;01mreturn\u001B[39;00m response\n",
      "File \u001B[1;32mC:\\.School\\CSCI 40 Stuff\\Lab 03\\CSCI 161.03\\Lib\\site-packages\\selenium\\webdriver\\remote\\errorhandler.py:229\u001B[0m, in \u001B[0;36mErrorHandler.check_response\u001B[1;34m(self, response)\u001B[0m\n\u001B[0;32m    227\u001B[0m         alert_text \u001B[38;5;241m=\u001B[39m value[\u001B[38;5;124m\"\u001B[39m\u001B[38;5;124malert\u001B[39m\u001B[38;5;124m\"\u001B[39m]\u001B[38;5;241m.\u001B[39mget(\u001B[38;5;124m\"\u001B[39m\u001B[38;5;124mtext\u001B[39m\u001B[38;5;124m\"\u001B[39m)\n\u001B[0;32m    228\u001B[0m     \u001B[38;5;28;01mraise\u001B[39;00m exception_class(message, screen, stacktrace, alert_text)  \u001B[38;5;66;03m# type: ignore[call-arg]  # mypy is not smart enough here\u001B[39;00m\n\u001B[1;32m--> 229\u001B[0m \u001B[38;5;28;01mraise\u001B[39;00m exception_class(message, screen, stacktrace)\n",
      "\u001B[1;31mNoSuchWindowException\u001B[0m: Message: no such window: target window already closed\nfrom unknown error: web view not found\n  (Session info: chrome=119.0.6045.124)\nStacktrace:\n\tGetHandleVerifier [0x00007FF628A282B2+55298]\n\t(No symbol) [0x00007FF628995E02]\n\t(No symbol) [0x00007FF6288505AB]\n\t(No symbol) [0x00007FF628830038]\n\t(No symbol) [0x00007FF6288B6BC7]\n\t(No symbol) [0x00007FF6288CA15F]\n\t(No symbol) [0x00007FF6288B1E83]\n\t(No symbol) [0x00007FF62888670A]\n\t(No symbol) [0x00007FF628887964]\n\tGetHandleVerifier [0x00007FF628DA0AAB+3694587]\n\tGetHandleVerifier [0x00007FF628DF728E+4048862]\n\tGetHandleVerifier [0x00007FF628DEF173+4015811]\n\tGetHandleVerifier [0x00007FF628AC47D6+695590]\n\t(No symbol) [0x00007FF6289A0CE8]\n\t(No symbol) [0x00007FF62899CF34]\n\t(No symbol) [0x00007FF62899D062]\n\t(No symbol) [0x00007FF62898D3A3]\n\tBaseThreadInitThunk [0x00007FFDB9B4257D+29]\n\tRtlUserThreadStart [0x00007FFDBA7AAA78+40]\n"
     ]
    }
   ],
   "source": [
    "rotten_links = ['https://www.rottentomatoes.com/tv/alice_in_borderland/s01/reviews?type=user&intcmp=rt-scorecard_audience-score-reviews',\n",
    "              'https://www.rottentomatoes.com/m/bleach_2018/reviews?type=user&intcmp=rt-scorecard_audience-score-reviews',\n",
    "              'https://www.rottentomatoes.com/tv/cowboy_bebop_2021/s01/reviews?type=user&intcmp=rt-scorecard_audience-score-reviews',\n",
    "              'https://www.rottentomatoes.com/m/death_note_2017/reviews?type=user&intcmp=rt-scorecard_audience-score-reviews',\n",
    "              'https://www.rottentomatoes.com/m/dragonball/reviews?type=user&intcmp=rt-scorecard_audience-score-reviews',\n",
    "              'https://www.rottentomatoes.com/tv/one_piece_2023/s01/reviews?type=user&intcmp=rt-scorecard_audience-score-reviews']\n",
    "titles = [\"Alice in Borderland\", \"Bleach\", \"Cowboy Bebop\", \"Death Note\", \"Dragonball꞉ Evolution\", \"One Piece\"]\n",
    "\n",
    "for i in range(len(titles)):\n",
    "    reviews = get_rotten_reviews(rotten_links[i])\n",
    "    reviews.to_csv('rotten_reviews_'+titles[i]+'.csv', index=False)"
   ]
  },
  {
   "cell_type": "markdown",
   "metadata": {},
   "source": [
    "# IMDB Scraper"
   ]
  },
  {
   "cell_type": "code",
   "execution_count": 21,
   "metadata": {},
   "outputs": [],
   "source": [
    "from selenium import webdriver\n",
    "from selenium.webdriver.common.by import By\n",
    "import warnings\n",
    "warnings.filterwarnings(\"ignore\", category=DeprecationWarning)"
   ]
  },
  {
   "cell_type": "code",
   "execution_count": 36,
   "metadata": {},
   "outputs": [],
   "source": [
    "def get_imdb_reviews(url):\n",
    "    driver = webdriver.Chrome()\n",
    "    driver.get(url) # tell Selenium to open the webpage # tell the webdriver to wait for 1 seconds for the page to load\n",
    "    page = 1 #S et initial variable for while loop\n",
    "    driver.implicitly_wait(3)\n",
    "    # We want at least 1000 review, so get 50 at a safe number\n",
    "    while True:\n",
    "        driver.implicitly_wait(2)\n",
    "        try:\n",
    "            # find the load more button on the webpage\n",
    "            load_more = driver.find_element('id', 'load-more-trigger')\n",
    "            #click on that button\n",
    "            load_more.click()\n",
    "            print('load')\n",
    "            page+=1 #move on to next loadmore button\n",
    "        except:\n",
    "            # If couldn't find any button to click, stop\n",
    "            break\n",
    "    # After fully expand the page, we will grab data from whole website\n",
    "    print(\"does it do this?oisahdfoaisdjfoaisdjfoiasjdioasd\")\n",
    "    review = driver.find_elements(By.CLASS_NAME, \"review-container\")\n",
    "    # Set list for each element:\n",
    "    title = []\n",
    "    content = []\n",
    "    rating = []\n",
    "    date = []\n",
    "    user_name = []\n",
    "\n",
    "    #run for loop to get\n",
    "    for n in review:\n",
    "        ftitle = n.find_element(By.CLASS_NAME, 'title').text\n",
    "        fcontent = n.find_element(By.CLASS_NAME, 'content').get_attribute(\"textContent\").strip()\n",
    "        fdate = n.find_element(By.CLASS_NAME, 'review-date').text\n",
    "        fname = n.find_element(By.CLASS_NAME, 'display-name-link').text\n",
    "\n",
    "        # Then add them to the respective list\n",
    "        title.append(ftitle)\n",
    "        content.append(fcontent)\n",
    "        date.append(fdate)\n",
    "        user_name.append(fname)\n",
    "\n",
    "        try:\n",
    "            frating = n.find_element(By.CLASS_NAME, 'rating-other-user-rating').text\n",
    "            rating.append(frating)\n",
    "        except:\n",
    "            rating.append(\"None\")\n",
    "    # Build data dictionary for dataframe\n",
    "\n",
    "    data = {'User_name': user_name,\n",
    "            'Review title': title,\n",
    "            'Review Rating': rating,\n",
    "            'Review date' : date,\n",
    "            'Review_body' : content\n",
    "            }\n",
    "    driver.quit()\n",
    "    return data"
   ]
  },
  {
   "cell_type": "code",
   "execution_count": 37,
   "metadata": {
    "collapsed": false
   },
   "outputs": [
    {
     "name": "stdout",
     "output_type": "stream",
     "text": [
      "load\n",
      "load\n",
      "load\n",
      "load\n",
      "load\n",
      "load\n",
      "load\n",
      "load\n",
      "load\n",
      "load\n",
      "load\n",
      "load\n",
      "load\n",
      "load\n",
      "load\n",
      "load\n",
      "load\n",
      "load\n",
      "load\n",
      "load\n",
      "load\n",
      "load\n",
      "load\n",
      "load\n",
      "load\n",
      "load\n",
      "load\n",
      "load\n",
      "does it do this?oisahdfoaisdjfoaisdjfoiasjdioasd\n",
      "load\n",
      "load\n",
      "load\n",
      "load\n",
      "load\n",
      "load\n",
      "load\n",
      "load\n",
      "load\n",
      "does it do this?oisahdfoaisdjfoaisdjfoiasjdioasd\n",
      "does it do this?oisahdfoaisdjfoaisdjfoiasjdioasd\n"
     ]
    },
    {
     "ename": "NoSuchWindowException",
     "evalue": "Message: no such window: target window already closed\nfrom unknown error: web view not found\n  (Session info: chrome=119.0.6045.124)\nStacktrace:\n\tGetHandleVerifier [0x00007FF628A282B2+55298]\n\t(No symbol) [0x00007FF628995E02]\n\t(No symbol) [0x00007FF6288505AB]\n\t(No symbol) [0x00007FF628830038]\n\t(No symbol) [0x00007FF6288B6BC7]\n\t(No symbol) [0x00007FF6288CA15F]\n\t(No symbol) [0x00007FF6288B1E83]\n\t(No symbol) [0x00007FF62888670A]\n\t(No symbol) [0x00007FF628887964]\n\tGetHandleVerifier [0x00007FF628DA0AAB+3694587]\n\tGetHandleVerifier [0x00007FF628DF728E+4048862]\n\tGetHandleVerifier [0x00007FF628DEF173+4015811]\n\tGetHandleVerifier [0x00007FF628AC47D6+695590]\n\t(No symbol) [0x00007FF6289A0CE8]\n\t(No symbol) [0x00007FF62899CF34]\n\t(No symbol) [0x00007FF62899D062]\n\t(No symbol) [0x00007FF62898D3A3]\n\tBaseThreadInitThunk [0x00007FFDB9B4257D+29]\n\tRtlUserThreadStart [0x00007FFDBA7AAA78+40]\n",
     "output_type": "error",
     "traceback": [
      "\u001B[1;31m---------------------------------------------------------------------------\u001B[0m",
      "\u001B[1;31mNoSuchWindowException\u001B[0m                     Traceback (most recent call last)",
      "Cell \u001B[1;32mIn[37], line 10\u001B[0m\n\u001B[0;32m      7\u001B[0m titles \u001B[38;5;241m=\u001B[39m [\u001B[38;5;124m\"\u001B[39m\u001B[38;5;124mAlice in Borderland\u001B[39m\u001B[38;5;124m\"\u001B[39m, \u001B[38;5;124m\"\u001B[39m\u001B[38;5;124mBleach\u001B[39m\u001B[38;5;124m\"\u001B[39m, \u001B[38;5;124m\"\u001B[39m\u001B[38;5;124mCowboy Bebop\u001B[39m\u001B[38;5;124m\"\u001B[39m, \u001B[38;5;124m\"\u001B[39m\u001B[38;5;124mDeath Note\u001B[39m\u001B[38;5;124m\"\u001B[39m, \u001B[38;5;124m\"\u001B[39m\u001B[38;5;124mDragonball꞉ Evolution\u001B[39m\u001B[38;5;124m\"\u001B[39m, \u001B[38;5;124m\"\u001B[39m\u001B[38;5;124mOne Piece\u001B[39m\u001B[38;5;124m\"\u001B[39m]\n\u001B[0;32m      9\u001B[0m \u001B[38;5;28;01mfor\u001B[39;00m i \u001B[38;5;129;01min\u001B[39;00m \u001B[38;5;28mrange\u001B[39m(\u001B[38;5;28mlen\u001B[39m(titles)):\n\u001B[1;32m---> 10\u001B[0m     reviews \u001B[38;5;241m=\u001B[39m \u001B[43mget_imdb_reviews\u001B[49m\u001B[43m(\u001B[49m\u001B[43mimdb_links\u001B[49m\u001B[43m[\u001B[49m\u001B[43mi\u001B[49m\u001B[43m]\u001B[49m\u001B[43m)\u001B[49m\n\u001B[0;32m     11\u001B[0m     df \u001B[38;5;241m=\u001B[39m pd\u001B[38;5;241m.\u001B[39mDataFrame(reviews)\n\u001B[0;32m     12\u001B[0m     df\u001B[38;5;241m.\u001B[39mto_csv(\u001B[38;5;124m'\u001B[39m\u001B[38;5;124mimdb_reviews_\u001B[39m\u001B[38;5;124m'\u001B[39m\u001B[38;5;241m+\u001B[39mtitles[i]\u001B[38;5;241m+\u001B[39m\u001B[38;5;124m'\u001B[39m\u001B[38;5;124m.csv\u001B[39m\u001B[38;5;124m'\u001B[39m, index\u001B[38;5;241m=\u001B[39m\u001B[38;5;28;01mFalse\u001B[39;00m)\n",
      "Cell \u001B[1;32mIn[36], line 21\u001B[0m, in \u001B[0;36mget_imdb_reviews\u001B[1;34m(url)\u001B[0m\n\u001B[0;32m     19\u001B[0m \u001B[38;5;66;03m# After fully expand the page, we will grab data from whole website\u001B[39;00m\n\u001B[0;32m     20\u001B[0m \u001B[38;5;28mprint\u001B[39m(\u001B[38;5;124m\"\u001B[39m\u001B[38;5;124mdoes it do this?oisahdfoaisdjfoaisdjfoiasjdioasd\u001B[39m\u001B[38;5;124m\"\u001B[39m)\n\u001B[1;32m---> 21\u001B[0m review \u001B[38;5;241m=\u001B[39m \u001B[43mdriver\u001B[49m\u001B[38;5;241;43m.\u001B[39;49m\u001B[43mfind_elements\u001B[49m\u001B[43m(\u001B[49m\u001B[43mBy\u001B[49m\u001B[38;5;241;43m.\u001B[39;49m\u001B[43mCLASS_NAME\u001B[49m\u001B[43m,\u001B[49m\u001B[43m \u001B[49m\u001B[38;5;124;43m\"\u001B[39;49m\u001B[38;5;124;43mreview-container\u001B[39;49m\u001B[38;5;124;43m\"\u001B[39;49m\u001B[43m)\u001B[49m\n\u001B[0;32m     22\u001B[0m \u001B[38;5;66;03m# Set list for each element:\u001B[39;00m\n\u001B[0;32m     23\u001B[0m title \u001B[38;5;241m=\u001B[39m []\n",
      "File \u001B[1;32mC:\\.School\\CSCI 40 Stuff\\Lab 03\\CSCI 161.03\\Lib\\site-packages\\selenium\\webdriver\\remote\\webdriver.py:771\u001B[0m, in \u001B[0;36mWebDriver.find_elements\u001B[1;34m(self, by, value)\u001B[0m\n\u001B[0;32m    767\u001B[0m     value \u001B[38;5;241m=\u001B[39m \u001B[38;5;124mf\u001B[39m\u001B[38;5;124m'\u001B[39m\u001B[38;5;124m[name=\u001B[39m\u001B[38;5;124m\"\u001B[39m\u001B[38;5;132;01m{\u001B[39;00mvalue\u001B[38;5;132;01m}\u001B[39;00m\u001B[38;5;124m\"\u001B[39m\u001B[38;5;124m]\u001B[39m\u001B[38;5;124m'\u001B[39m\n\u001B[0;32m    769\u001B[0m \u001B[38;5;66;03m# Return empty list if driver returns null\u001B[39;00m\n\u001B[0;32m    770\u001B[0m \u001B[38;5;66;03m# See https://github.com/SeleniumHQ/selenium/issues/4555\u001B[39;00m\n\u001B[1;32m--> 771\u001B[0m \u001B[38;5;28;01mreturn\u001B[39;00m \u001B[38;5;28;43mself\u001B[39;49m\u001B[38;5;241;43m.\u001B[39;49m\u001B[43mexecute\u001B[49m\u001B[43m(\u001B[49m\u001B[43mCommand\u001B[49m\u001B[38;5;241;43m.\u001B[39;49m\u001B[43mFIND_ELEMENTS\u001B[49m\u001B[43m,\u001B[49m\u001B[43m \u001B[49m\u001B[43m{\u001B[49m\u001B[38;5;124;43m\"\u001B[39;49m\u001B[38;5;124;43musing\u001B[39;49m\u001B[38;5;124;43m\"\u001B[39;49m\u001B[43m:\u001B[49m\u001B[43m \u001B[49m\u001B[43mby\u001B[49m\u001B[43m,\u001B[49m\u001B[43m \u001B[49m\u001B[38;5;124;43m\"\u001B[39;49m\u001B[38;5;124;43mvalue\u001B[39;49m\u001B[38;5;124;43m\"\u001B[39;49m\u001B[43m:\u001B[49m\u001B[43m \u001B[49m\u001B[43mvalue\u001B[49m\u001B[43m}\u001B[49m\u001B[43m)\u001B[49m[\u001B[38;5;124m\"\u001B[39m\u001B[38;5;124mvalue\u001B[39m\u001B[38;5;124m\"\u001B[39m] \u001B[38;5;129;01mor\u001B[39;00m []\n",
      "File \u001B[1;32mC:\\.School\\CSCI 40 Stuff\\Lab 03\\CSCI 161.03\\Lib\\site-packages\\selenium\\webdriver\\remote\\webdriver.py:347\u001B[0m, in \u001B[0;36mWebDriver.execute\u001B[1;34m(self, driver_command, params)\u001B[0m\n\u001B[0;32m    345\u001B[0m response \u001B[38;5;241m=\u001B[39m \u001B[38;5;28mself\u001B[39m\u001B[38;5;241m.\u001B[39mcommand_executor\u001B[38;5;241m.\u001B[39mexecute(driver_command, params)\n\u001B[0;32m    346\u001B[0m \u001B[38;5;28;01mif\u001B[39;00m response:\n\u001B[1;32m--> 347\u001B[0m     \u001B[38;5;28;43mself\u001B[39;49m\u001B[38;5;241;43m.\u001B[39;49m\u001B[43merror_handler\u001B[49m\u001B[38;5;241;43m.\u001B[39;49m\u001B[43mcheck_response\u001B[49m\u001B[43m(\u001B[49m\u001B[43mresponse\u001B[49m\u001B[43m)\u001B[49m\n\u001B[0;32m    348\u001B[0m     response[\u001B[38;5;124m\"\u001B[39m\u001B[38;5;124mvalue\u001B[39m\u001B[38;5;124m\"\u001B[39m] \u001B[38;5;241m=\u001B[39m \u001B[38;5;28mself\u001B[39m\u001B[38;5;241m.\u001B[39m_unwrap_value(response\u001B[38;5;241m.\u001B[39mget(\u001B[38;5;124m\"\u001B[39m\u001B[38;5;124mvalue\u001B[39m\u001B[38;5;124m\"\u001B[39m, \u001B[38;5;28;01mNone\u001B[39;00m))\n\u001B[0;32m    349\u001B[0m     \u001B[38;5;28;01mreturn\u001B[39;00m response\n",
      "File \u001B[1;32mC:\\.School\\CSCI 40 Stuff\\Lab 03\\CSCI 161.03\\Lib\\site-packages\\selenium\\webdriver\\remote\\errorhandler.py:229\u001B[0m, in \u001B[0;36mErrorHandler.check_response\u001B[1;34m(self, response)\u001B[0m\n\u001B[0;32m    227\u001B[0m         alert_text \u001B[38;5;241m=\u001B[39m value[\u001B[38;5;124m\"\u001B[39m\u001B[38;5;124malert\u001B[39m\u001B[38;5;124m\"\u001B[39m]\u001B[38;5;241m.\u001B[39mget(\u001B[38;5;124m\"\u001B[39m\u001B[38;5;124mtext\u001B[39m\u001B[38;5;124m\"\u001B[39m)\n\u001B[0;32m    228\u001B[0m     \u001B[38;5;28;01mraise\u001B[39;00m exception_class(message, screen, stacktrace, alert_text)  \u001B[38;5;66;03m# type: ignore[call-arg]  # mypy is not smart enough here\u001B[39;00m\n\u001B[1;32m--> 229\u001B[0m \u001B[38;5;28;01mraise\u001B[39;00m exception_class(message, screen, stacktrace)\n",
      "\u001B[1;31mNoSuchWindowException\u001B[0m: Message: no such window: target window already closed\nfrom unknown error: web view not found\n  (Session info: chrome=119.0.6045.124)\nStacktrace:\n\tGetHandleVerifier [0x00007FF628A282B2+55298]\n\t(No symbol) [0x00007FF628995E02]\n\t(No symbol) [0x00007FF6288505AB]\n\t(No symbol) [0x00007FF628830038]\n\t(No symbol) [0x00007FF6288B6BC7]\n\t(No symbol) [0x00007FF6288CA15F]\n\t(No symbol) [0x00007FF6288B1E83]\n\t(No symbol) [0x00007FF62888670A]\n\t(No symbol) [0x00007FF628887964]\n\tGetHandleVerifier [0x00007FF628DA0AAB+3694587]\n\tGetHandleVerifier [0x00007FF628DF728E+4048862]\n\tGetHandleVerifier [0x00007FF628DEF173+4015811]\n\tGetHandleVerifier [0x00007FF628AC47D6+695590]\n\t(No symbol) [0x00007FF6289A0CE8]\n\t(No symbol) [0x00007FF62899CF34]\n\t(No symbol) [0x00007FF62899D062]\n\t(No symbol) [0x00007FF62898D3A3]\n\tBaseThreadInitThunk [0x00007FFDB9B4257D+29]\n\tRtlUserThreadStart [0x00007FFDBA7AAA78+40]\n"
     ]
    }
   ],
   "source": [
    "imdb_links = ['https://www.imdb.com/title/tt10795658/reviews/?ref_=ttrt_sa_3',\n",
    "              'https://www.imdb.com/title/tt5979872/reviews/?ref_=ttrt_sa_3',\n",
    "              'https://www.imdb.com/title/tt1267295/reviews/?ref_=ttrt_sa_3',\n",
    "              'https://www.imdb.com/title/tt1241317/reviews/?ref_=ttrt_sa_3',\n",
    "              'https://www.imdb.com/title/tt1098327/reviews/?ref_=ttrt_sa_3',\n",
    "              'https://www.imdb.com/title/tt11737520/reviews/?ref_=ttrt_sa_3']\n",
    "titles = [\"Alice in Borderland\", \"Bleach\", \"Cowboy Bebop\", \"Death Note\", \"Dragonball꞉ Evolution\", \"One Piece\"]\n",
    "\n",
    "for i in range(len(titles)):\n",
    "    reviews = get_imdb_reviews(imdb_links[i])\n",
    "    df = pd.DataFrame(reviews)\n",
    "    df.to_csv('imdb_reviews_'+titles[i]+'.csv', index=False)"
   ]
  },
  {
   "cell_type": "code",
   "execution_count": null,
   "metadata": {
    "collapsed": false
   },
   "outputs": [],
   "source": []
  }
 ],
 "metadata": {
  "kernelspec": {
   "display_name": "Python 3",
   "language": "python",
   "name": "python3"
  },
  "language_info": {
   "codemirror_mode": {
    "name": "ipython",
    "version": 3
   },
   "file_extension": ".py",
   "mimetype": "text/x-python",
   "name": "python",
   "nbconvert_exporter": "python",
   "pygments_lexer": "ipython3",
   "version": "3.10.6"
  }
 },
 "nbformat": 4,
 "nbformat_minor": 0
}
